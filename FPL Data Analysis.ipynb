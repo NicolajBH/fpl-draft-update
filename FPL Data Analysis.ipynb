{
 "cells": [
  {
   "cell_type": "markdown",
   "id": "eca3636e",
   "metadata": {
    "tags": []
   },
   "source": [
    "## FPL Draft 2022-2023 Analysis\n",
    "\n",
    "Discover why this season is not going as well as previous seasons"
   ]
  },
  {
   "cell_type": "code",
   "execution_count": 46,
   "id": "ac7fe183",
   "metadata": {},
   "outputs": [],
   "source": [
    "from sqlalchemy import create_engine\n",
    "import pandas as pd\n",
    "import numpy as np\n",
    "import matplotlib.pyplot as plt\n",
    "import seaborn as sns\n",
    "import plotly.express as px"
   ]
  },
  {
   "cell_type": "code",
   "execution_count": 2,
   "id": "941ff8da",
   "metadata": {},
   "outputs": [],
   "source": [
    "engine = create_engine('sqlite:///fpl-draft-db.db')\n",
    "conn = engine.connect()"
   ]
  },
  {
   "cell_type": "code",
   "execution_count": 3,
   "id": "2f7c3627",
   "metadata": {},
   "outputs": [],
   "source": [
    "draft_player_info = pd.read_sql_table('draft_player_info',conn)\n",
    "fantasy_player_info = pd.read_sql_table('fantasy_player_info',conn)\n",
    "player_picks = pd.read_sql_table('player_picks',conn)\n",
    "deadlines = pd.read_sql_table('deadlines',conn)\n",
    "player_stats = pd.read_sql_table('player_stats',conn)\n",
    "\n",
    "# player names and entry ids\n",
    "players = {15606:'Nicolaj',24788:'Jesus',42118:'Kris',154393:'Mattia',16133:'Ollie'}"
   ]
  },
  {
   "cell_type": "code",
   "execution_count": 4,
   "id": "0da0241e",
   "metadata": {},
   "outputs": [],
   "source": [
    "# merge dataframes. code reused from dashboard.py\n",
    "\n",
    "# match ids in draft player info with fantasy player info\n",
    "draft_player_info = draft_player_info[['id','first_name','second_name','web_name','draft_rank','element_type', 'team']]\n",
    "fantasy_player_info = fantasy_player_info[['id','first_name','second_name','web_name','element_type', 'team']]\n",
    "player_info = draft_player_info.merge(fantasy_player_info, on=['first_name','second_name','web_name','element_type','team'])\n",
    "player_info = player_info.rename(columns={'id_x':'draft_id','id_y':'fpl_id'})\n",
    "\n",
    "# player stat dtypes\n",
    "convert_dict = {col:'float' for col in player_stats.select_dtypes('object').columns.to_list()}\n",
    "player_stats = player_stats.astype(convert_dict)\n",
    "\n",
    "# merge player picks with player info, stats and deadlines\n",
    "picks_detailed = player_picks.merge(player_info, left_on='element', right_on='draft_id')\n",
    "picks_detailed = picks_detailed.merge(player_stats, left_on=['fpl_id','gw'], right_on=['id', 'gw']).drop(columns=['id'])\n",
    "picks_detailed = picks_detailed.merge(deadlines[['deadline_time','month','id']], left_on=['gw'], right_on=['id']).drop(columns=['id'])\n",
    "\n",
    "# overall table\n",
    "ppm = picks_detailed.copy()\n",
    "ppm = picks_detailed[picks_detailed.played==True] # only include points if they played\n",
    "ppm = ppm[['team_id','gw','month','stats.total_points']]\n",
    "ppm = ppm.groupby(['team_id','gw','month']).sum('stats.total_points').reset_index()\n",
    "\n",
    "ppm['overall_points'] = ppm['stats.total_points'].groupby(ppm['team_id']).transform('cumsum')\n",
    "ppm['overall_rank'] = ppm.groupby('gw')['overall_points'].rank(method='first', ascending=False).astype(int)\n",
    "\n",
    "ppm['monthly_points'] = ppm.groupby(['team_id', 'month']).transform('cumsum')['stats.total_points']\n",
    "ppm = ppm.merge(ppm.groupby(['team_id','month']).max()\\\n",
    "         .reset_index()[['monthly_points','team_id','month']], on=['team_id','month'],how='left')\n",
    "ppm['monthly_rank'] = ppm.sort_values(by=['overall_rank']).groupby(['month','gw'])['monthly_points_x'].rank(method='first', ascending=False).astype(int)\n",
    "ppm = ppm.rename(columns={'monthly_points_x':'cum_pts_month','monthly_points_y':'eom_pts'})\n",
    "\n",
    "player_ppm = picks_detailed.copy()\n",
    "player_ppm['player_cum_pts'] = player_ppm.groupby(['team_id', 'month', 'element'])['stats.total_points'].cumsum()\n",
    "player_ppm = player_ppm.sort_values(by=['player_cum_pts','draft_rank'], ascending=[False,True])\\\n",
    "    .drop_duplicates(subset=['team_id','gw'])\\\n",
    "    .rename(columns={'web_name':'month_top_scorer'})\n",
    "\n",
    "overall_table = ppm.merge(player_ppm[['month_top_scorer', 'gw', 'team_id','player_cum_pts']], on=['gw','team_id'],how='left')"
   ]
  },
  {
   "cell_type": "markdown",
   "id": "931f8c49",
   "metadata": {},
   "source": [
    "## Best and worst gameweeks of the season"
   ]
  },
  {
   "cell_type": "code",
   "execution_count": 5,
   "id": "f9632e6a",
   "metadata": {},
   "outputs": [
    {
     "data": {
      "text/html": [
       "<div>\n",
       "<style scoped>\n",
       "    .dataframe tbody tr th:only-of-type {\n",
       "        vertical-align: middle;\n",
       "    }\n",
       "\n",
       "    .dataframe tbody tr th {\n",
       "        vertical-align: top;\n",
       "    }\n",
       "\n",
       "    .dataframe thead th {\n",
       "        text-align: right;\n",
       "    }\n",
       "</style>\n",
       "<table border=\"1\" class=\"dataframe\">\n",
       "  <thead>\n",
       "    <tr style=\"text-align: right;\">\n",
       "      <th></th>\n",
       "      <th>team_id</th>\n",
       "      <th>gw</th>\n",
       "      <th>month</th>\n",
       "      <th>stats.total_points</th>\n",
       "      <th>overall_points</th>\n",
       "      <th>overall_rank</th>\n",
       "      <th>cum_pts_month</th>\n",
       "      <th>eom_pts</th>\n",
       "      <th>monthly_rank</th>\n",
       "      <th>month_top_scorer</th>\n",
       "      <th>player_cum_pts</th>\n",
       "    </tr>\n",
       "  </thead>\n",
       "  <tbody>\n",
       "    <tr>\n",
       "      <th>24</th>\n",
       "      <td>Nicolaj</td>\n",
       "      <td>25</td>\n",
       "      <td>February</td>\n",
       "      <td>101</td>\n",
       "      <td>1153</td>\n",
       "      <td>2</td>\n",
       "      <td>243</td>\n",
       "      <td>243</td>\n",
       "      <td>1</td>\n",
       "      <td>Martinelli</td>\n",
       "      <td>38</td>\n",
       "    </tr>\n",
       "    <tr>\n",
       "      <th>28</th>\n",
       "      <td>Nicolaj</td>\n",
       "      <td>29</td>\n",
       "      <td>April</td>\n",
       "      <td>95</td>\n",
       "      <td>1363</td>\n",
       "      <td>2</td>\n",
       "      <td>95</td>\n",
       "      <td>177</td>\n",
       "      <td>1</td>\n",
       "      <td>Wilson</td>\n",
       "      <td>19</td>\n",
       "    </tr>\n",
       "    <tr>\n",
       "      <th>121</th>\n",
       "      <td>Kris</td>\n",
       "      <td>29</td>\n",
       "      <td>April</td>\n",
       "      <td>83</td>\n",
       "      <td>1386</td>\n",
       "      <td>1</td>\n",
       "      <td>83</td>\n",
       "      <td>172</td>\n",
       "      <td>2</td>\n",
       "      <td>Toney</td>\n",
       "      <td>11</td>\n",
       "    </tr>\n",
       "    <tr>\n",
       "      <th>49</th>\n",
       "      <td>Ollie</td>\n",
       "      <td>19</td>\n",
       "      <td>January</td>\n",
       "      <td>77</td>\n",
       "      <td>899</td>\n",
       "      <td>1</td>\n",
       "      <td>77</td>\n",
       "      <td>166</td>\n",
       "      <td>1</td>\n",
       "      <td>Kane</td>\n",
       "      <td>16</td>\n",
       "    </tr>\n",
       "    <tr>\n",
       "      <th>90</th>\n",
       "      <td>Jesus</td>\n",
       "      <td>29</td>\n",
       "      <td>April</td>\n",
       "      <td>76</td>\n",
       "      <td>1245</td>\n",
       "      <td>4</td>\n",
       "      <td>76</td>\n",
       "      <td>163</td>\n",
       "      <td>3</td>\n",
       "      <td>De Bruyne</td>\n",
       "      <td>13</td>\n",
       "    </tr>\n",
       "  </tbody>\n",
       "</table>\n",
       "</div>"
      ],
      "text/plain": [
       "     team_id  gw     month  stats.total_points  overall_points  overall_rank  \\\n",
       "24   Nicolaj  25  February                 101            1153             2   \n",
       "28   Nicolaj  29     April                  95            1363             2   \n",
       "121     Kris  29     April                  83            1386             1   \n",
       "49     Ollie  19   January                  77             899             1   \n",
       "90     Jesus  29     April                  76            1245             4   \n",
       "\n",
       "     cum_pts_month  eom_pts  monthly_rank month_top_scorer  player_cum_pts  \n",
       "24             243      243             1       Martinelli              38  \n",
       "28              95      177             1           Wilson              19  \n",
       "121             83      172             2            Toney              11  \n",
       "49              77      166             1             Kane              16  \n",
       "90              76      163             3        De Bruyne              13  "
      ]
     },
     "execution_count": 5,
     "metadata": {},
     "output_type": "execute_result"
    }
   ],
   "source": [
    "best_gw = overall_table.replace({'team_id':players})\n",
    "best_gw.sort_values(by=['stats.total_points'], ascending=False).head()"
   ]
  },
  {
   "cell_type": "code",
   "execution_count": 6,
   "id": "ce5d12cd",
   "metadata": {},
   "outputs": [
    {
     "data": {
      "text/html": [
       "<div>\n",
       "<style scoped>\n",
       "    .dataframe tbody tr th:only-of-type {\n",
       "        vertical-align: middle;\n",
       "    }\n",
       "\n",
       "    .dataframe tbody tr th {\n",
       "        vertical-align: top;\n",
       "    }\n",
       "\n",
       "    .dataframe thead th {\n",
       "        text-align: right;\n",
       "    }\n",
       "</style>\n",
       "<table border=\"1\" class=\"dataframe\">\n",
       "  <thead>\n",
       "    <tr style=\"text-align: right;\">\n",
       "      <th></th>\n",
       "      <th>team_id</th>\n",
       "      <th>gw</th>\n",
       "      <th>month</th>\n",
       "      <th>stats.total_points</th>\n",
       "      <th>overall_points</th>\n",
       "      <th>overall_rank</th>\n",
       "      <th>cum_pts_month</th>\n",
       "      <th>eom_pts</th>\n",
       "      <th>monthly_rank</th>\n",
       "      <th>month_top_scorer</th>\n",
       "      <th>player_cum_pts</th>\n",
       "    </tr>\n",
       "  </thead>\n",
       "  <tbody>\n",
       "    <tr>\n",
       "      <th>1</th>\n",
       "      <td>Nicolaj</td>\n",
       "      <td>2</td>\n",
       "      <td>August</td>\n",
       "      <td>19</td>\n",
       "      <td>71</td>\n",
       "      <td>5</td>\n",
       "      <td>71</td>\n",
       "      <td>201</td>\n",
       "      <td>5</td>\n",
       "      <td>Salah</td>\n",
       "      <td>14</td>\n",
       "    </tr>\n",
       "    <tr>\n",
       "      <th>66</th>\n",
       "      <td>Jesus</td>\n",
       "      <td>5</td>\n",
       "      <td>August</td>\n",
       "      <td>23</td>\n",
       "      <td>217</td>\n",
       "      <td>4</td>\n",
       "      <td>217</td>\n",
       "      <td>217</td>\n",
       "      <td>4</td>\n",
       "      <td>Jesus</td>\n",
       "      <td>32</td>\n",
       "    </tr>\n",
       "    <tr>\n",
       "      <th>134</th>\n",
       "      <td>Mattia</td>\n",
       "      <td>11</td>\n",
       "      <td>October</td>\n",
       "      <td>23</td>\n",
       "      <td>432</td>\n",
       "      <td>4</td>\n",
       "      <td>122</td>\n",
       "      <td>210</td>\n",
       "      <td>4</td>\n",
       "      <td>Foden</td>\n",
       "      <td>32</td>\n",
       "    </tr>\n",
       "    <tr>\n",
       "      <th>141</th>\n",
       "      <td>Mattia</td>\n",
       "      <td>18</td>\n",
       "      <td>December</td>\n",
       "      <td>23</td>\n",
       "      <td>645</td>\n",
       "      <td>5</td>\n",
       "      <td>53</td>\n",
       "      <td>53</td>\n",
       "      <td>5</td>\n",
       "      <td>Almirón</td>\n",
       "      <td>11</td>\n",
       "    </tr>\n",
       "    <tr>\n",
       "      <th>136</th>\n",
       "      <td>Mattia</td>\n",
       "      <td>13</td>\n",
       "      <td>October</td>\n",
       "      <td>24</td>\n",
       "      <td>495</td>\n",
       "      <td>4</td>\n",
       "      <td>185</td>\n",
       "      <td>210</td>\n",
       "      <td>4</td>\n",
       "      <td>Foden</td>\n",
       "      <td>33</td>\n",
       "    </tr>\n",
       "  </tbody>\n",
       "</table>\n",
       "</div>"
      ],
      "text/plain": [
       "     team_id  gw     month  stats.total_points  overall_points  overall_rank  \\\n",
       "1    Nicolaj   2    August                  19              71             5   \n",
       "66     Jesus   5    August                  23             217             4   \n",
       "134   Mattia  11   October                  23             432             4   \n",
       "141   Mattia  18  December                  23             645             5   \n",
       "136   Mattia  13   October                  24             495             4   \n",
       "\n",
       "     cum_pts_month  eom_pts  monthly_rank month_top_scorer  player_cum_pts  \n",
       "1               71      201             5            Salah              14  \n",
       "66             217      217             4            Jesus              32  \n",
       "134            122      210             4            Foden              32  \n",
       "141             53       53             5          Almirón              11  \n",
       "136            185      210             4            Foden              33  "
      ]
     },
     "execution_count": 6,
     "metadata": {},
     "output_type": "execute_result"
    }
   ],
   "source": [
    "best_gw[best_gw['stats.total_points'] != 0].sort_values(by=['stats.total_points'], ascending=True).head()"
   ]
  },
  {
   "cell_type": "code",
   "execution_count": 7,
   "id": "cc2f419e",
   "metadata": {},
   "outputs": [
    {
     "data": {
      "text/html": [
       "<div>\n",
       "<style scoped>\n",
       "    .dataframe tbody tr th:only-of-type {\n",
       "        vertical-align: middle;\n",
       "    }\n",
       "\n",
       "    .dataframe tbody tr th {\n",
       "        vertical-align: top;\n",
       "    }\n",
       "\n",
       "    .dataframe thead th {\n",
       "        text-align: right;\n",
       "    }\n",
       "</style>\n",
       "<table border=\"1\" class=\"dataframe\">\n",
       "  <thead>\n",
       "    <tr style=\"text-align: right;\">\n",
       "      <th></th>\n",
       "      <th>team_id</th>\n",
       "      <th>gw</th>\n",
       "      <th>month</th>\n",
       "      <th>stats.total_points</th>\n",
       "      <th>overall_points</th>\n",
       "      <th>overall_rank</th>\n",
       "      <th>cum_pts_month</th>\n",
       "      <th>eom_pts</th>\n",
       "      <th>monthly_rank</th>\n",
       "      <th>month_top_scorer</th>\n",
       "      <th>player_cum_pts</th>\n",
       "    </tr>\n",
       "  </thead>\n",
       "  <tbody>\n",
       "    <tr>\n",
       "      <th>24</th>\n",
       "      <td>Nicolaj</td>\n",
       "      <td>25</td>\n",
       "      <td>February</td>\n",
       "      <td>101</td>\n",
       "      <td>1153</td>\n",
       "      <td>2</td>\n",
       "      <td>243</td>\n",
       "      <td>243</td>\n",
       "      <td>1</td>\n",
       "      <td>Martinelli</td>\n",
       "      <td>38</td>\n",
       "    </tr>\n",
       "    <tr>\n",
       "      <th>28</th>\n",
       "      <td>Nicolaj</td>\n",
       "      <td>29</td>\n",
       "      <td>April</td>\n",
       "      <td>95</td>\n",
       "      <td>1363</td>\n",
       "      <td>2</td>\n",
       "      <td>95</td>\n",
       "      <td>177</td>\n",
       "      <td>1</td>\n",
       "      <td>Wilson</td>\n",
       "      <td>19</td>\n",
       "    </tr>\n",
       "    <tr>\n",
       "      <th>19</th>\n",
       "      <td>Nicolaj</td>\n",
       "      <td>20</td>\n",
       "      <td>January</td>\n",
       "      <td>63</td>\n",
       "      <td>861</td>\n",
       "      <td>3</td>\n",
       "      <td>97</td>\n",
       "      <td>146</td>\n",
       "      <td>3</td>\n",
       "      <td>Fernandes</td>\n",
       "      <td>25</td>\n",
       "    </tr>\n",
       "    <tr>\n",
       "      <th>16</th>\n",
       "      <td>Nicolaj</td>\n",
       "      <td>17</td>\n",
       "      <td>December</td>\n",
       "      <td>60</td>\n",
       "      <td>728</td>\n",
       "      <td>3</td>\n",
       "      <td>60</td>\n",
       "      <td>96</td>\n",
       "      <td>2</td>\n",
       "      <td>Salah</td>\n",
       "      <td>12</td>\n",
       "    </tr>\n",
       "    <tr>\n",
       "      <th>7</th>\n",
       "      <td>Nicolaj</td>\n",
       "      <td>8</td>\n",
       "      <td>September</td>\n",
       "      <td>60</td>\n",
       "      <td>294</td>\n",
       "      <td>5</td>\n",
       "      <td>93</td>\n",
       "      <td>93</td>\n",
       "      <td>1</td>\n",
       "      <td>Saka</td>\n",
       "      <td>16</td>\n",
       "    </tr>\n",
       "  </tbody>\n",
       "</table>\n",
       "</div>"
      ],
      "text/plain": [
       "    team_id  gw      month  stats.total_points  overall_points  overall_rank  \\\n",
       "24  Nicolaj  25   February                 101            1153             2   \n",
       "28  Nicolaj  29      April                  95            1363             2   \n",
       "19  Nicolaj  20    January                  63             861             3   \n",
       "16  Nicolaj  17   December                  60             728             3   \n",
       "7   Nicolaj   8  September                  60             294             5   \n",
       "\n",
       "    cum_pts_month  eom_pts  monthly_rank month_top_scorer  player_cum_pts  \n",
       "24            243      243             1       Martinelli              38  \n",
       "28             95      177             1           Wilson              19  \n",
       "19             97      146             3        Fernandes              25  \n",
       "16             60       96             2            Salah              12  \n",
       "7              93       93             1             Saka              16  "
      ]
     },
     "execution_count": 7,
     "metadata": {},
     "output_type": "execute_result"
    }
   ],
   "source": [
    "my_best = best_gw[best_gw.team_id=='Nicolaj'].sort_values(by=['stats.total_points'], ascending=False).head()\n",
    "my_best"
   ]
  },
  {
   "cell_type": "code",
   "execution_count": 8,
   "id": "71a69288",
   "metadata": {},
   "outputs": [
    {
     "data": {
      "text/html": [
       "<div>\n",
       "<style scoped>\n",
       "    .dataframe tbody tr th:only-of-type {\n",
       "        vertical-align: middle;\n",
       "    }\n",
       "\n",
       "    .dataframe tbody tr th {\n",
       "        vertical-align: top;\n",
       "    }\n",
       "\n",
       "    .dataframe thead th {\n",
       "        text-align: right;\n",
       "    }\n",
       "</style>\n",
       "<table border=\"1\" class=\"dataframe\">\n",
       "  <thead>\n",
       "    <tr style=\"text-align: right;\">\n",
       "      <th></th>\n",
       "      <th>team_id</th>\n",
       "      <th>gw</th>\n",
       "      <th>month</th>\n",
       "      <th>stats.total_points</th>\n",
       "      <th>overall_points</th>\n",
       "      <th>overall_rank</th>\n",
       "      <th>cum_pts_month</th>\n",
       "      <th>eom_pts</th>\n",
       "      <th>monthly_rank</th>\n",
       "      <th>month_top_scorer</th>\n",
       "      <th>player_cum_pts</th>\n",
       "    </tr>\n",
       "  </thead>\n",
       "  <tbody>\n",
       "    <tr>\n",
       "      <th>1</th>\n",
       "      <td>Nicolaj</td>\n",
       "      <td>2</td>\n",
       "      <td>August</td>\n",
       "      <td>19</td>\n",
       "      <td>71</td>\n",
       "      <td>5</td>\n",
       "      <td>71</td>\n",
       "      <td>201</td>\n",
       "      <td>5</td>\n",
       "      <td>Salah</td>\n",
       "      <td>14</td>\n",
       "    </tr>\n",
       "    <tr>\n",
       "      <th>27</th>\n",
       "      <td>Nicolaj</td>\n",
       "      <td>28</td>\n",
       "      <td>March</td>\n",
       "      <td>27</td>\n",
       "      <td>1268</td>\n",
       "      <td>3</td>\n",
       "      <td>115</td>\n",
       "      <td>115</td>\n",
       "      <td>5</td>\n",
       "      <td>Mitoma</td>\n",
       "      <td>25</td>\n",
       "    </tr>\n",
       "    <tr>\n",
       "      <th>25</th>\n",
       "      <td>Nicolaj</td>\n",
       "      <td>26</td>\n",
       "      <td>March</td>\n",
       "      <td>32</td>\n",
       "      <td>1185</td>\n",
       "      <td>3</td>\n",
       "      <td>32</td>\n",
       "      <td>115</td>\n",
       "      <td>4</td>\n",
       "      <td>Mitoma</td>\n",
       "      <td>13</td>\n",
       "    </tr>\n",
       "    <tr>\n",
       "      <th>5</th>\n",
       "      <td>Nicolaj</td>\n",
       "      <td>6</td>\n",
       "      <td>September</td>\n",
       "      <td>33</td>\n",
       "      <td>234</td>\n",
       "      <td>5</td>\n",
       "      <td>33</td>\n",
       "      <td>93</td>\n",
       "      <td>5</td>\n",
       "      <td>Haaland</td>\n",
       "      <td>9</td>\n",
       "    </tr>\n",
       "    <tr>\n",
       "      <th>18</th>\n",
       "      <td>Nicolaj</td>\n",
       "      <td>19</td>\n",
       "      <td>January</td>\n",
       "      <td>34</td>\n",
       "      <td>798</td>\n",
       "      <td>3</td>\n",
       "      <td>34</td>\n",
       "      <td>146</td>\n",
       "      <td>5</td>\n",
       "      <td>Pope</td>\n",
       "      <td>10</td>\n",
       "    </tr>\n",
       "  </tbody>\n",
       "</table>\n",
       "</div>"
      ],
      "text/plain": [
       "    team_id  gw      month  stats.total_points  overall_points  overall_rank  \\\n",
       "1   Nicolaj   2     August                  19              71             5   \n",
       "27  Nicolaj  28      March                  27            1268             3   \n",
       "25  Nicolaj  26      March                  32            1185             3   \n",
       "5   Nicolaj   6  September                  33             234             5   \n",
       "18  Nicolaj  19    January                  34             798             3   \n",
       "\n",
       "    cum_pts_month  eom_pts  monthly_rank month_top_scorer  player_cum_pts  \n",
       "1              71      201             5            Salah              14  \n",
       "27            115      115             5           Mitoma              25  \n",
       "25             32      115             4           Mitoma              13  \n",
       "5              33       93             5          Haaland               9  \n",
       "18             34      146             5             Pope              10  "
      ]
     },
     "execution_count": 8,
     "metadata": {},
     "output_type": "execute_result"
    }
   ],
   "source": [
    "my_worst = best_gw[best_gw.team_id=='Nicolaj'].sort_values(by=['stats.total_points'], ascending=True)\n",
    "my_worst[my_worst['stats.total_points']!=0].head()"
   ]
  },
  {
   "cell_type": "markdown",
   "id": "ea6f0992",
   "metadata": {},
   "source": [
    "I've had the best gameweeks of the season with 101 points in gw25 and 95 in gw29.\n",
    "\n",
    "I've also had the worst gameweek of the season with 19 points in gw2"
   ]
  },
  {
   "cell_type": "code",
   "execution_count": 93,
   "id": "a6d728c0",
   "metadata": {},
   "outputs": [
    {
     "data": {
      "text/plain": [
       "stats.goals_scored                5.00\n",
       "stats.expected_goals              3.29\n",
       "stats.assists                     1.00\n",
       "stats.expected_assists            1.56\n",
       "stats.goals_conceded              8.00\n",
       "stats.expected_goals_conceded    13.53\n",
       "dtype: float64"
      ]
     },
     "execution_count": 93,
     "metadata": {},
     "output_type": "execute_result"
    }
   ],
   "source": [
    "# compare expected vs actual\n",
    "\n",
    "gw25 = picks_detailed[(picks_detailed.gw==25) & (picks_detailed.team_id==15606)]\n",
    "cols = ['stats.goals_scored','stats.expected_goals','stats.assists','stats.expected_assists','stats.goals_conceded','stats.expected_goals_conceded']\n",
    "gw25[cols].sum()"
   ]
  },
  {
   "cell_type": "code",
   "execution_count": 10,
   "id": "cb4b82f5",
   "metadata": {},
   "outputs": [
    {
     "data": {
      "text/plain": [
       "stats.goals_scored                5.00\n",
       "stats.expected_goals              3.29\n",
       "stats.assists                     1.00\n",
       "stats.expected_assists            1.56\n",
       "stats.goals_conceded              8.00\n",
       "stats.expected_goals_conceded    13.53\n",
       "dtype: float64"
      ]
     },
     "execution_count": 10,
     "metadata": {},
     "output_type": "execute_result"
    }
   ],
   "source": [
    "gw29 = picks_detailed[(picks_detailed.gw==29) & (picks_detailed.team_id==15606)]\n",
    "gw29[cols].sum()"
   ]
  },
  {
   "cell_type": "code",
   "execution_count": 96,
   "id": "567405bd",
   "metadata": {},
   "outputs": [
    {
     "data": {
      "text/plain": [
       "stats.goals_scored                0.00\n",
       "stats.expected_goals              1.17\n",
       "stats.assists                     0.00\n",
       "stats.expected_assists            1.45\n",
       "stats.goals_conceded             16.00\n",
       "stats.expected_goals_conceded    10.43\n",
       "dtype: float64"
      ]
     },
     "execution_count": 96,
     "metadata": {},
     "output_type": "execute_result"
    }
   ],
   "source": [
    "gw2 = picks_detailed[(picks_detailed.gw==2) & (picks_detailed.team_id==15606)]\n",
    "gw2[cols].sum()"
   ]
  },
  {
   "cell_type": "markdown",
   "id": "67040239",
   "metadata": {},
   "source": [
    "The best gameweeks came in double gameweeks and where the team outperformed the expected goals, expected assists and expected goals conceded.\n",
    "\n",
    "The worst gameweek came at the start of the season where the team underperformed all the same metrics."
   ]
  },
  {
   "cell_type": "code",
   "execution_count": 67,
   "id": "324357f7",
   "metadata": {},
   "outputs": [
    {
     "data": {
      "application/vnd.plotly.v1+json": {
       "config": {
        "plotlyServerURL": "https://plot.ly"
       },
       "data": [
        {
         "hovertemplate": "team_id=Nicolaj<br>gw=%{x}<br>gi_plus_minus=%{y}<extra></extra>",
         "legendgroup": "Nicolaj",
         "line": {
          "color": "#636efa",
          "dash": "solid"
         },
         "marker": {
          "symbol": "circle"
         },
         "mode": "lines+markers",
         "name": "Nicolaj",
         "orientation": "v",
         "showlegend": true,
         "type": "scatter",
         "x": [
          1,
          2,
          3,
          4,
          5,
          6,
          7,
          8,
          9,
          10,
          11,
          12,
          13,
          14,
          15,
          16,
          17,
          18,
          19,
          20,
          21,
          22,
          23,
          24,
          25,
          26,
          27,
          28,
          29,
          30,
          31
         ],
         "xaxis": "x",
         "y": [
          3.0300000000000002,
          -2.62,
          0.4700000000000002,
          1.52,
          2.09,
          -1.5299999999999998,
          0,
          3.6,
          4.39,
          -0.6299999999999999,
          -2.3400000000000003,
          -2.39,
          2.09,
          1.13,
          0.7600000000000002,
          -0.5899999999999999,
          1.7400000000000002,
          -2.1399999999999997,
          -1.5300000000000002,
          -0.9100000000000001,
          1.3200000000000003,
          -1.2599999999999998,
          -2.26,
          -0.1200000000000001,
          1.1499999999999995,
          -1.5599999999999996,
          -0.4800000000000004,
          -1.13,
          2.25,
          -0.5300000000000002,
          -0.03000000000000025
         ],
         "yaxis": "y"
        },
        {
         "hovertemplate": "team_id=Ollie<br>gw=%{x}<br>gi_plus_minus=%{y}<extra></extra>",
         "legendgroup": "Ollie",
         "line": {
          "color": "#EF553B",
          "dash": "solid"
         },
         "marker": {
          "symbol": "circle"
         },
         "mode": "lines+markers",
         "name": "Ollie",
         "orientation": "v",
         "showlegend": true,
         "type": "scatter",
         "x": [
          1,
          2,
          3,
          4,
          5,
          6,
          7,
          8,
          9,
          10,
          11,
          12,
          13,
          14,
          15,
          16,
          17,
          18,
          19,
          20,
          21,
          22,
          23,
          24,
          25,
          26,
          27,
          28,
          29,
          30,
          31
         ],
         "xaxis": "x",
         "y": [
          0.5199999999999996,
          0.9199999999999999,
          1.87,
          1.5099999999999998,
          2.1799999999999997,
          -0.8999999999999999,
          0,
          2.66,
          -0.8499999999999996,
          1.09,
          -2.58,
          -0.9500000000000002,
          2.19,
          -1.5100000000000002,
          0.41999999999999993,
          2.5199999999999996,
          2.3,
          2.0700000000000003,
          2.47,
          -1.7999999999999998,
          -0.52,
          4.01,
          2.4899999999999998,
          -2.48,
          -1.4900000000000002,
          0.79,
          -2.54,
          2.08,
          -2.0500000000000007,
          0.8900000000000001,
          3.3000000000000007
         ],
         "yaxis": "y"
        },
        {
         "hovertemplate": "team_id=Jesus<br>gw=%{x}<br>gi_plus_minus=%{y}<extra></extra>",
         "legendgroup": "Jesus",
         "line": {
          "color": "#00cc96",
          "dash": "solid"
         },
         "marker": {
          "symbol": "circle"
         },
         "mode": "lines+markers",
         "name": "Jesus",
         "orientation": "v",
         "showlegend": true,
         "type": "scatter",
         "x": [
          1,
          2,
          3,
          4,
          5,
          6,
          7,
          8,
          9,
          10,
          11,
          12,
          13,
          14,
          15,
          16,
          17,
          18,
          19,
          20,
          21,
          22,
          23,
          24,
          25,
          26,
          27,
          28,
          29,
          30,
          31
         ],
         "xaxis": "x",
         "y": [
          2.25,
          2.6500000000000004,
          2.54,
          0.7799999999999998,
          -1.7200000000000002,
          -1.0099999999999998,
          0,
          3.54,
          -1.0700000000000003,
          2.16,
          -1.7399999999999998,
          -0.8900000000000001,
          -2.26,
          0.9800000000000004,
          0.71,
          0.17999999999999972,
          -1.1600000000000001,
          1.48,
          0.20999999999999996,
          -3.8,
          2.48,
          2.8600000000000003,
          2.57,
          -2.1500000000000004,
          0.1299999999999999,
          -1.56,
          1.2600000000000002,
          3.75,
          4.52,
          -0.7300000000000004,
          0.8100000000000005
         ],
         "yaxis": "y"
        },
        {
         "hovertemplate": "team_id=Kris<br>gw=%{x}<br>gi_plus_minus=%{y}<extra></extra>",
         "legendgroup": "Kris",
         "line": {
          "color": "#ab63fa",
          "dash": "solid"
         },
         "marker": {
          "symbol": "circle"
         },
         "mode": "lines+markers",
         "name": "Kris",
         "orientation": "v",
         "showlegend": true,
         "type": "scatter",
         "x": [
          1,
          2,
          3,
          4,
          5,
          6,
          7,
          8,
          9,
          10,
          11,
          12,
          13,
          14,
          15,
          16,
          17,
          18,
          19,
          20,
          21,
          22,
          23,
          24,
          25,
          26,
          27,
          28,
          29,
          30,
          31
         ],
         "xaxis": "x",
         "y": [
          0.9900000000000002,
          2.41,
          0.0900000000000003,
          2.16,
          -1.2000000000000002,
          -1.0199999999999996,
          0,
          -1.42,
          3.29,
          2.37,
          1.7699999999999996,
          -1.65,
          0.8199999999999998,
          0.6099999999999999,
          0.7799999999999998,
          1.44,
          4.79,
          0.2599999999999998,
          0.69,
          -1.17,
          -2.0700000000000003,
          -1.79,
          0.15000000000000036,
          -1.3399999999999999,
          3.11,
          -1.3900000000000006,
          -0.8599999999999994,
          2.04,
          -2.380000000000001,
          -3.8900000000000006,
          2.34
         ],
         "yaxis": "y"
        },
        {
         "hovertemplate": "team_id=Mattia<br>gw=%{x}<br>gi_plus_minus=%{y}<extra></extra>",
         "legendgroup": "Mattia",
         "line": {
          "color": "#FFA15A",
          "dash": "solid"
         },
         "marker": {
          "symbol": "circle"
         },
         "mode": "lines+markers",
         "name": "Mattia",
         "orientation": "v",
         "showlegend": true,
         "type": "scatter",
         "x": [
          1,
          2,
          3,
          4,
          5,
          6,
          7,
          8,
          9,
          10,
          11,
          12,
          13,
          14,
          15,
          16,
          17,
          18,
          19,
          20,
          21,
          22,
          23,
          24,
          25,
          26,
          27,
          28,
          29,
          30,
          31
         ],
         "xaxis": "x",
         "y": [
          -3.0300000000000002,
          4.98,
          2.7199999999999998,
          1.7400000000000002,
          3.0700000000000003,
          -0.41000000000000014,
          0,
          1.93,
          2.84,
          2.77,
          -2.3600000000000003,
          1.01,
          0.52,
          -2.29,
          2.5700000000000003,
          -0.6799999999999997,
          -0.6499999999999999,
          -1.1399999999999997,
          -0.040000000000000036,
          2.8099999999999996,
          1.6,
          -0.48,
          0.51,
          0.8799999999999999,
          0.5599999999999996,
          2.85,
          0.9900000000000002,
          0.7000000000000002,
          0.16000000000000014,
          2.1,
          1.2799999999999998
         ],
         "yaxis": "y"
        }
       ],
       "layout": {
        "height": 500,
        "legend": {
         "title": {
          "text": "team_id"
         },
         "tracegroupgap": 0
        },
        "margin": {
         "t": 60
        },
        "template": {
         "data": {
          "bar": [
           {
            "error_x": {
             "color": "#2a3f5f"
            },
            "error_y": {
             "color": "#2a3f5f"
            },
            "marker": {
             "line": {
              "color": "#E5ECF6",
              "width": 0.5
             },
             "pattern": {
              "fillmode": "overlay",
              "size": 10,
              "solidity": 0.2
             }
            },
            "type": "bar"
           }
          ],
          "barpolar": [
           {
            "marker": {
             "line": {
              "color": "#E5ECF6",
              "width": 0.5
             },
             "pattern": {
              "fillmode": "overlay",
              "size": 10,
              "solidity": 0.2
             }
            },
            "type": "barpolar"
           }
          ],
          "carpet": [
           {
            "aaxis": {
             "endlinecolor": "#2a3f5f",
             "gridcolor": "white",
             "linecolor": "white",
             "minorgridcolor": "white",
             "startlinecolor": "#2a3f5f"
            },
            "baxis": {
             "endlinecolor": "#2a3f5f",
             "gridcolor": "white",
             "linecolor": "white",
             "minorgridcolor": "white",
             "startlinecolor": "#2a3f5f"
            },
            "type": "carpet"
           }
          ],
          "choropleth": [
           {
            "colorbar": {
             "outlinewidth": 0,
             "ticks": ""
            },
            "type": "choropleth"
           }
          ],
          "contour": [
           {
            "colorbar": {
             "outlinewidth": 0,
             "ticks": ""
            },
            "colorscale": [
             [
              0,
              "#0d0887"
             ],
             [
              0.1111111111111111,
              "#46039f"
             ],
             [
              0.2222222222222222,
              "#7201a8"
             ],
             [
              0.3333333333333333,
              "#9c179e"
             ],
             [
              0.4444444444444444,
              "#bd3786"
             ],
             [
              0.5555555555555556,
              "#d8576b"
             ],
             [
              0.6666666666666666,
              "#ed7953"
             ],
             [
              0.7777777777777778,
              "#fb9f3a"
             ],
             [
              0.8888888888888888,
              "#fdca26"
             ],
             [
              1,
              "#f0f921"
             ]
            ],
            "type": "contour"
           }
          ],
          "contourcarpet": [
           {
            "colorbar": {
             "outlinewidth": 0,
             "ticks": ""
            },
            "type": "contourcarpet"
           }
          ],
          "heatmap": [
           {
            "colorbar": {
             "outlinewidth": 0,
             "ticks": ""
            },
            "colorscale": [
             [
              0,
              "#0d0887"
             ],
             [
              0.1111111111111111,
              "#46039f"
             ],
             [
              0.2222222222222222,
              "#7201a8"
             ],
             [
              0.3333333333333333,
              "#9c179e"
             ],
             [
              0.4444444444444444,
              "#bd3786"
             ],
             [
              0.5555555555555556,
              "#d8576b"
             ],
             [
              0.6666666666666666,
              "#ed7953"
             ],
             [
              0.7777777777777778,
              "#fb9f3a"
             ],
             [
              0.8888888888888888,
              "#fdca26"
             ],
             [
              1,
              "#f0f921"
             ]
            ],
            "type": "heatmap"
           }
          ],
          "heatmapgl": [
           {
            "colorbar": {
             "outlinewidth": 0,
             "ticks": ""
            },
            "colorscale": [
             [
              0,
              "#0d0887"
             ],
             [
              0.1111111111111111,
              "#46039f"
             ],
             [
              0.2222222222222222,
              "#7201a8"
             ],
             [
              0.3333333333333333,
              "#9c179e"
             ],
             [
              0.4444444444444444,
              "#bd3786"
             ],
             [
              0.5555555555555556,
              "#d8576b"
             ],
             [
              0.6666666666666666,
              "#ed7953"
             ],
             [
              0.7777777777777778,
              "#fb9f3a"
             ],
             [
              0.8888888888888888,
              "#fdca26"
             ],
             [
              1,
              "#f0f921"
             ]
            ],
            "type": "heatmapgl"
           }
          ],
          "histogram": [
           {
            "marker": {
             "pattern": {
              "fillmode": "overlay",
              "size": 10,
              "solidity": 0.2
             }
            },
            "type": "histogram"
           }
          ],
          "histogram2d": [
           {
            "colorbar": {
             "outlinewidth": 0,
             "ticks": ""
            },
            "colorscale": [
             [
              0,
              "#0d0887"
             ],
             [
              0.1111111111111111,
              "#46039f"
             ],
             [
              0.2222222222222222,
              "#7201a8"
             ],
             [
              0.3333333333333333,
              "#9c179e"
             ],
             [
              0.4444444444444444,
              "#bd3786"
             ],
             [
              0.5555555555555556,
              "#d8576b"
             ],
             [
              0.6666666666666666,
              "#ed7953"
             ],
             [
              0.7777777777777778,
              "#fb9f3a"
             ],
             [
              0.8888888888888888,
              "#fdca26"
             ],
             [
              1,
              "#f0f921"
             ]
            ],
            "type": "histogram2d"
           }
          ],
          "histogram2dcontour": [
           {
            "colorbar": {
             "outlinewidth": 0,
             "ticks": ""
            },
            "colorscale": [
             [
              0,
              "#0d0887"
             ],
             [
              0.1111111111111111,
              "#46039f"
             ],
             [
              0.2222222222222222,
              "#7201a8"
             ],
             [
              0.3333333333333333,
              "#9c179e"
             ],
             [
              0.4444444444444444,
              "#bd3786"
             ],
             [
              0.5555555555555556,
              "#d8576b"
             ],
             [
              0.6666666666666666,
              "#ed7953"
             ],
             [
              0.7777777777777778,
              "#fb9f3a"
             ],
             [
              0.8888888888888888,
              "#fdca26"
             ],
             [
              1,
              "#f0f921"
             ]
            ],
            "type": "histogram2dcontour"
           }
          ],
          "mesh3d": [
           {
            "colorbar": {
             "outlinewidth": 0,
             "ticks": ""
            },
            "type": "mesh3d"
           }
          ],
          "parcoords": [
           {
            "line": {
             "colorbar": {
              "outlinewidth": 0,
              "ticks": ""
             }
            },
            "type": "parcoords"
           }
          ],
          "pie": [
           {
            "automargin": true,
            "type": "pie"
           }
          ],
          "scatter": [
           {
            "fillpattern": {
             "fillmode": "overlay",
             "size": 10,
             "solidity": 0.2
            },
            "type": "scatter"
           }
          ],
          "scatter3d": [
           {
            "line": {
             "colorbar": {
              "outlinewidth": 0,
              "ticks": ""
             }
            },
            "marker": {
             "colorbar": {
              "outlinewidth": 0,
              "ticks": ""
             }
            },
            "type": "scatter3d"
           }
          ],
          "scattercarpet": [
           {
            "marker": {
             "colorbar": {
              "outlinewidth": 0,
              "ticks": ""
             }
            },
            "type": "scattercarpet"
           }
          ],
          "scattergeo": [
           {
            "marker": {
             "colorbar": {
              "outlinewidth": 0,
              "ticks": ""
             }
            },
            "type": "scattergeo"
           }
          ],
          "scattergl": [
           {
            "marker": {
             "colorbar": {
              "outlinewidth": 0,
              "ticks": ""
             }
            },
            "type": "scattergl"
           }
          ],
          "scattermapbox": [
           {
            "marker": {
             "colorbar": {
              "outlinewidth": 0,
              "ticks": ""
             }
            },
            "type": "scattermapbox"
           }
          ],
          "scatterpolar": [
           {
            "marker": {
             "colorbar": {
              "outlinewidth": 0,
              "ticks": ""
             }
            },
            "type": "scatterpolar"
           }
          ],
          "scatterpolargl": [
           {
            "marker": {
             "colorbar": {
              "outlinewidth": 0,
              "ticks": ""
             }
            },
            "type": "scatterpolargl"
           }
          ],
          "scatterternary": [
           {
            "marker": {
             "colorbar": {
              "outlinewidth": 0,
              "ticks": ""
             }
            },
            "type": "scatterternary"
           }
          ],
          "surface": [
           {
            "colorbar": {
             "outlinewidth": 0,
             "ticks": ""
            },
            "colorscale": [
             [
              0,
              "#0d0887"
             ],
             [
              0.1111111111111111,
              "#46039f"
             ],
             [
              0.2222222222222222,
              "#7201a8"
             ],
             [
              0.3333333333333333,
              "#9c179e"
             ],
             [
              0.4444444444444444,
              "#bd3786"
             ],
             [
              0.5555555555555556,
              "#d8576b"
             ],
             [
              0.6666666666666666,
              "#ed7953"
             ],
             [
              0.7777777777777778,
              "#fb9f3a"
             ],
             [
              0.8888888888888888,
              "#fdca26"
             ],
             [
              1,
              "#f0f921"
             ]
            ],
            "type": "surface"
           }
          ],
          "table": [
           {
            "cells": {
             "fill": {
              "color": "#EBF0F8"
             },
             "line": {
              "color": "white"
             }
            },
            "header": {
             "fill": {
              "color": "#C8D4E3"
             },
             "line": {
              "color": "white"
             }
            },
            "type": "table"
           }
          ]
         },
         "layout": {
          "annotationdefaults": {
           "arrowcolor": "#2a3f5f",
           "arrowhead": 0,
           "arrowwidth": 1
          },
          "autotypenumbers": "strict",
          "coloraxis": {
           "colorbar": {
            "outlinewidth": 0,
            "ticks": ""
           }
          },
          "colorscale": {
           "diverging": [
            [
             0,
             "#8e0152"
            ],
            [
             0.1,
             "#c51b7d"
            ],
            [
             0.2,
             "#de77ae"
            ],
            [
             0.3,
             "#f1b6da"
            ],
            [
             0.4,
             "#fde0ef"
            ],
            [
             0.5,
             "#f7f7f7"
            ],
            [
             0.6,
             "#e6f5d0"
            ],
            [
             0.7,
             "#b8e186"
            ],
            [
             0.8,
             "#7fbc41"
            ],
            [
             0.9,
             "#4d9221"
            ],
            [
             1,
             "#276419"
            ]
           ],
           "sequential": [
            [
             0,
             "#0d0887"
            ],
            [
             0.1111111111111111,
             "#46039f"
            ],
            [
             0.2222222222222222,
             "#7201a8"
            ],
            [
             0.3333333333333333,
             "#9c179e"
            ],
            [
             0.4444444444444444,
             "#bd3786"
            ],
            [
             0.5555555555555556,
             "#d8576b"
            ],
            [
             0.6666666666666666,
             "#ed7953"
            ],
            [
             0.7777777777777778,
             "#fb9f3a"
            ],
            [
             0.8888888888888888,
             "#fdca26"
            ],
            [
             1,
             "#f0f921"
            ]
           ],
           "sequentialminus": [
            [
             0,
             "#0d0887"
            ],
            [
             0.1111111111111111,
             "#46039f"
            ],
            [
             0.2222222222222222,
             "#7201a8"
            ],
            [
             0.3333333333333333,
             "#9c179e"
            ],
            [
             0.4444444444444444,
             "#bd3786"
            ],
            [
             0.5555555555555556,
             "#d8576b"
            ],
            [
             0.6666666666666666,
             "#ed7953"
            ],
            [
             0.7777777777777778,
             "#fb9f3a"
            ],
            [
             0.8888888888888888,
             "#fdca26"
            ],
            [
             1,
             "#f0f921"
            ]
           ]
          },
          "colorway": [
           "#636efa",
           "#EF553B",
           "#00cc96",
           "#ab63fa",
           "#FFA15A",
           "#19d3f3",
           "#FF6692",
           "#B6E880",
           "#FF97FF",
           "#FECB52"
          ],
          "font": {
           "color": "#2a3f5f"
          },
          "geo": {
           "bgcolor": "white",
           "lakecolor": "white",
           "landcolor": "#E5ECF6",
           "showlakes": true,
           "showland": true,
           "subunitcolor": "white"
          },
          "hoverlabel": {
           "align": "left"
          },
          "hovermode": "closest",
          "mapbox": {
           "style": "light"
          },
          "paper_bgcolor": "white",
          "plot_bgcolor": "#E5ECF6",
          "polar": {
           "angularaxis": {
            "gridcolor": "white",
            "linecolor": "white",
            "ticks": ""
           },
           "bgcolor": "#E5ECF6",
           "radialaxis": {
            "gridcolor": "white",
            "linecolor": "white",
            "ticks": ""
           }
          },
          "scene": {
           "xaxis": {
            "backgroundcolor": "#E5ECF6",
            "gridcolor": "white",
            "gridwidth": 2,
            "linecolor": "white",
            "showbackground": true,
            "ticks": "",
            "zerolinecolor": "white"
           },
           "yaxis": {
            "backgroundcolor": "#E5ECF6",
            "gridcolor": "white",
            "gridwidth": 2,
            "linecolor": "white",
            "showbackground": true,
            "ticks": "",
            "zerolinecolor": "white"
           },
           "zaxis": {
            "backgroundcolor": "#E5ECF6",
            "gridcolor": "white",
            "gridwidth": 2,
            "linecolor": "white",
            "showbackground": true,
            "ticks": "",
            "zerolinecolor": "white"
           }
          },
          "shapedefaults": {
           "line": {
            "color": "#2a3f5f"
           }
          },
          "ternary": {
           "aaxis": {
            "gridcolor": "white",
            "linecolor": "white",
            "ticks": ""
           },
           "baxis": {
            "gridcolor": "white",
            "linecolor": "white",
            "ticks": ""
           },
           "bgcolor": "#E5ECF6",
           "caxis": {
            "gridcolor": "white",
            "linecolor": "white",
            "ticks": ""
           }
          },
          "title": {
           "x": 0.05
          },
          "xaxis": {
           "automargin": true,
           "gridcolor": "white",
           "linecolor": "white",
           "ticks": "",
           "title": {
            "standoff": 15
           },
           "zerolinecolor": "white",
           "zerolinewidth": 2
          },
          "yaxis": {
           "automargin": true,
           "gridcolor": "white",
           "linecolor": "white",
           "ticks": "",
           "title": {
            "standoff": 15
           },
           "zerolinecolor": "white",
           "zerolinewidth": 2
          }
         }
        },
        "width": 900,
        "xaxis": {
         "anchor": "y",
         "domain": [
          0,
          1
         ],
         "title": {
          "text": "gw"
         }
        },
        "yaxis": {
         "anchor": "x",
         "domain": [
          0,
          1
         ],
         "title": {
          "text": "gi_plus_minus"
         }
        }
       }
      },
      "text/html": [
       "<div>                            <div id=\"2fdd17b7-b13b-4b2c-b4a7-f560cc0cc3e5\" class=\"plotly-graph-div\" style=\"height:500px; width:900px;\"></div>            <script type=\"text/javascript\">                require([\"plotly\"], function(Plotly) {                    window.PLOTLYENV=window.PLOTLYENV || {};                                    if (document.getElementById(\"2fdd17b7-b13b-4b2c-b4a7-f560cc0cc3e5\")) {                    Plotly.newPlot(                        \"2fdd17b7-b13b-4b2c-b4a7-f560cc0cc3e5\",                        [{\"hovertemplate\":\"team_id=Nicolaj<br>gw=%{x}<br>gi_plus_minus=%{y}<extra></extra>\",\"legendgroup\":\"Nicolaj\",\"line\":{\"color\":\"#636efa\",\"dash\":\"solid\"},\"marker\":{\"symbol\":\"circle\"},\"mode\":\"lines+markers\",\"name\":\"Nicolaj\",\"orientation\":\"v\",\"showlegend\":true,\"x\":[1,2,3,4,5,6,7,8,9,10,11,12,13,14,15,16,17,18,19,20,21,22,23,24,25,26,27,28,29,30,31],\"xaxis\":\"x\",\"y\":[3.0300000000000002,-2.62,0.4700000000000002,1.52,2.09,-1.5299999999999998,0.0,3.6,4.39,-0.6299999999999999,-2.3400000000000003,-2.39,2.09,1.13,0.7600000000000002,-0.5899999999999999,1.7400000000000002,-2.1399999999999997,-1.5300000000000002,-0.9100000000000001,1.3200000000000003,-1.2599999999999998,-2.26,-0.1200000000000001,1.1499999999999995,-1.5599999999999996,-0.4800000000000004,-1.13,2.25,-0.5300000000000002,-0.03000000000000025],\"yaxis\":\"y\",\"type\":\"scatter\"},{\"hovertemplate\":\"team_id=Ollie<br>gw=%{x}<br>gi_plus_minus=%{y}<extra></extra>\",\"legendgroup\":\"Ollie\",\"line\":{\"color\":\"#EF553B\",\"dash\":\"solid\"},\"marker\":{\"symbol\":\"circle\"},\"mode\":\"lines+markers\",\"name\":\"Ollie\",\"orientation\":\"v\",\"showlegend\":true,\"x\":[1,2,3,4,5,6,7,8,9,10,11,12,13,14,15,16,17,18,19,20,21,22,23,24,25,26,27,28,29,30,31],\"xaxis\":\"x\",\"y\":[0.5199999999999996,0.9199999999999999,1.87,1.5099999999999998,2.1799999999999997,-0.8999999999999999,0.0,2.66,-0.8499999999999996,1.09,-2.58,-0.9500000000000002,2.19,-1.5100000000000002,0.41999999999999993,2.5199999999999996,2.3,2.0700000000000003,2.47,-1.7999999999999998,-0.52,4.01,2.4899999999999998,-2.48,-1.4900000000000002,0.79,-2.54,2.08,-2.0500000000000007,0.8900000000000001,3.3000000000000007],\"yaxis\":\"y\",\"type\":\"scatter\"},{\"hovertemplate\":\"team_id=Jesus<br>gw=%{x}<br>gi_plus_minus=%{y}<extra></extra>\",\"legendgroup\":\"Jesus\",\"line\":{\"color\":\"#00cc96\",\"dash\":\"solid\"},\"marker\":{\"symbol\":\"circle\"},\"mode\":\"lines+markers\",\"name\":\"Jesus\",\"orientation\":\"v\",\"showlegend\":true,\"x\":[1,2,3,4,5,6,7,8,9,10,11,12,13,14,15,16,17,18,19,20,21,22,23,24,25,26,27,28,29,30,31],\"xaxis\":\"x\",\"y\":[2.25,2.6500000000000004,2.54,0.7799999999999998,-1.7200000000000002,-1.0099999999999998,0.0,3.54,-1.0700000000000003,2.16,-1.7399999999999998,-0.8900000000000001,-2.26,0.9800000000000004,0.71,0.17999999999999972,-1.1600000000000001,1.48,0.20999999999999996,-3.8,2.48,2.8600000000000003,2.57,-2.1500000000000004,0.1299999999999999,-1.56,1.2600000000000002,3.75,4.52,-0.7300000000000004,0.8100000000000005],\"yaxis\":\"y\",\"type\":\"scatter\"},{\"hovertemplate\":\"team_id=Kris<br>gw=%{x}<br>gi_plus_minus=%{y}<extra></extra>\",\"legendgroup\":\"Kris\",\"line\":{\"color\":\"#ab63fa\",\"dash\":\"solid\"},\"marker\":{\"symbol\":\"circle\"},\"mode\":\"lines+markers\",\"name\":\"Kris\",\"orientation\":\"v\",\"showlegend\":true,\"x\":[1,2,3,4,5,6,7,8,9,10,11,12,13,14,15,16,17,18,19,20,21,22,23,24,25,26,27,28,29,30,31],\"xaxis\":\"x\",\"y\":[0.9900000000000002,2.41,0.0900000000000003,2.16,-1.2000000000000002,-1.0199999999999996,0.0,-1.42,3.29,2.37,1.7699999999999996,-1.65,0.8199999999999998,0.6099999999999999,0.7799999999999998,1.44,4.79,0.2599999999999998,0.69,-1.17,-2.0700000000000003,-1.79,0.15000000000000036,-1.3399999999999999,3.11,-1.3900000000000006,-0.8599999999999994,2.04,-2.380000000000001,-3.8900000000000006,2.34],\"yaxis\":\"y\",\"type\":\"scatter\"},{\"hovertemplate\":\"team_id=Mattia<br>gw=%{x}<br>gi_plus_minus=%{y}<extra></extra>\",\"legendgroup\":\"Mattia\",\"line\":{\"color\":\"#FFA15A\",\"dash\":\"solid\"},\"marker\":{\"symbol\":\"circle\"},\"mode\":\"lines+markers\",\"name\":\"Mattia\",\"orientation\":\"v\",\"showlegend\":true,\"x\":[1,2,3,4,5,6,7,8,9,10,11,12,13,14,15,16,17,18,19,20,21,22,23,24,25,26,27,28,29,30,31],\"xaxis\":\"x\",\"y\":[-3.0300000000000002,4.98,2.7199999999999998,1.7400000000000002,3.0700000000000003,-0.41000000000000014,0.0,1.93,2.84,2.77,-2.3600000000000003,1.01,0.52,-2.29,2.5700000000000003,-0.6799999999999997,-0.6499999999999999,-1.1399999999999997,-0.040000000000000036,2.8099999999999996,1.6,-0.48,0.51,0.8799999999999999,0.5599999999999996,2.85,0.9900000000000002,0.7000000000000002,0.16000000000000014,2.1,1.2799999999999998],\"yaxis\":\"y\",\"type\":\"scatter\"}],                        {\"template\":{\"data\":{\"histogram2dcontour\":[{\"type\":\"histogram2dcontour\",\"colorbar\":{\"outlinewidth\":0,\"ticks\":\"\"},\"colorscale\":[[0.0,\"#0d0887\"],[0.1111111111111111,\"#46039f\"],[0.2222222222222222,\"#7201a8\"],[0.3333333333333333,\"#9c179e\"],[0.4444444444444444,\"#bd3786\"],[0.5555555555555556,\"#d8576b\"],[0.6666666666666666,\"#ed7953\"],[0.7777777777777778,\"#fb9f3a\"],[0.8888888888888888,\"#fdca26\"],[1.0,\"#f0f921\"]]}],\"choropleth\":[{\"type\":\"choropleth\",\"colorbar\":{\"outlinewidth\":0,\"ticks\":\"\"}}],\"histogram2d\":[{\"type\":\"histogram2d\",\"colorbar\":{\"outlinewidth\":0,\"ticks\":\"\"},\"colorscale\":[[0.0,\"#0d0887\"],[0.1111111111111111,\"#46039f\"],[0.2222222222222222,\"#7201a8\"],[0.3333333333333333,\"#9c179e\"],[0.4444444444444444,\"#bd3786\"],[0.5555555555555556,\"#d8576b\"],[0.6666666666666666,\"#ed7953\"],[0.7777777777777778,\"#fb9f3a\"],[0.8888888888888888,\"#fdca26\"],[1.0,\"#f0f921\"]]}],\"heatmap\":[{\"type\":\"heatmap\",\"colorbar\":{\"outlinewidth\":0,\"ticks\":\"\"},\"colorscale\":[[0.0,\"#0d0887\"],[0.1111111111111111,\"#46039f\"],[0.2222222222222222,\"#7201a8\"],[0.3333333333333333,\"#9c179e\"],[0.4444444444444444,\"#bd3786\"],[0.5555555555555556,\"#d8576b\"],[0.6666666666666666,\"#ed7953\"],[0.7777777777777778,\"#fb9f3a\"],[0.8888888888888888,\"#fdca26\"],[1.0,\"#f0f921\"]]}],\"heatmapgl\":[{\"type\":\"heatmapgl\",\"colorbar\":{\"outlinewidth\":0,\"ticks\":\"\"},\"colorscale\":[[0.0,\"#0d0887\"],[0.1111111111111111,\"#46039f\"],[0.2222222222222222,\"#7201a8\"],[0.3333333333333333,\"#9c179e\"],[0.4444444444444444,\"#bd3786\"],[0.5555555555555556,\"#d8576b\"],[0.6666666666666666,\"#ed7953\"],[0.7777777777777778,\"#fb9f3a\"],[0.8888888888888888,\"#fdca26\"],[1.0,\"#f0f921\"]]}],\"contourcarpet\":[{\"type\":\"contourcarpet\",\"colorbar\":{\"outlinewidth\":0,\"ticks\":\"\"}}],\"contour\":[{\"type\":\"contour\",\"colorbar\":{\"outlinewidth\":0,\"ticks\":\"\"},\"colorscale\":[[0.0,\"#0d0887\"],[0.1111111111111111,\"#46039f\"],[0.2222222222222222,\"#7201a8\"],[0.3333333333333333,\"#9c179e\"],[0.4444444444444444,\"#bd3786\"],[0.5555555555555556,\"#d8576b\"],[0.6666666666666666,\"#ed7953\"],[0.7777777777777778,\"#fb9f3a\"],[0.8888888888888888,\"#fdca26\"],[1.0,\"#f0f921\"]]}],\"surface\":[{\"type\":\"surface\",\"colorbar\":{\"outlinewidth\":0,\"ticks\":\"\"},\"colorscale\":[[0.0,\"#0d0887\"],[0.1111111111111111,\"#46039f\"],[0.2222222222222222,\"#7201a8\"],[0.3333333333333333,\"#9c179e\"],[0.4444444444444444,\"#bd3786\"],[0.5555555555555556,\"#d8576b\"],[0.6666666666666666,\"#ed7953\"],[0.7777777777777778,\"#fb9f3a\"],[0.8888888888888888,\"#fdca26\"],[1.0,\"#f0f921\"]]}],\"mesh3d\":[{\"type\":\"mesh3d\",\"colorbar\":{\"outlinewidth\":0,\"ticks\":\"\"}}],\"scatter\":[{\"fillpattern\":{\"fillmode\":\"overlay\",\"size\":10,\"solidity\":0.2},\"type\":\"scatter\"}],\"parcoords\":[{\"type\":\"parcoords\",\"line\":{\"colorbar\":{\"outlinewidth\":0,\"ticks\":\"\"}}}],\"scatterpolargl\":[{\"type\":\"scatterpolargl\",\"marker\":{\"colorbar\":{\"outlinewidth\":0,\"ticks\":\"\"}}}],\"bar\":[{\"error_x\":{\"color\":\"#2a3f5f\"},\"error_y\":{\"color\":\"#2a3f5f\"},\"marker\":{\"line\":{\"color\":\"#E5ECF6\",\"width\":0.5},\"pattern\":{\"fillmode\":\"overlay\",\"size\":10,\"solidity\":0.2}},\"type\":\"bar\"}],\"scattergeo\":[{\"type\":\"scattergeo\",\"marker\":{\"colorbar\":{\"outlinewidth\":0,\"ticks\":\"\"}}}],\"scatterpolar\":[{\"type\":\"scatterpolar\",\"marker\":{\"colorbar\":{\"outlinewidth\":0,\"ticks\":\"\"}}}],\"histogram\":[{\"marker\":{\"pattern\":{\"fillmode\":\"overlay\",\"size\":10,\"solidity\":0.2}},\"type\":\"histogram\"}],\"scattergl\":[{\"type\":\"scattergl\",\"marker\":{\"colorbar\":{\"outlinewidth\":0,\"ticks\":\"\"}}}],\"scatter3d\":[{\"type\":\"scatter3d\",\"line\":{\"colorbar\":{\"outlinewidth\":0,\"ticks\":\"\"}},\"marker\":{\"colorbar\":{\"outlinewidth\":0,\"ticks\":\"\"}}}],\"scattermapbox\":[{\"type\":\"scattermapbox\",\"marker\":{\"colorbar\":{\"outlinewidth\":0,\"ticks\":\"\"}}}],\"scatterternary\":[{\"type\":\"scatterternary\",\"marker\":{\"colorbar\":{\"outlinewidth\":0,\"ticks\":\"\"}}}],\"scattercarpet\":[{\"type\":\"scattercarpet\",\"marker\":{\"colorbar\":{\"outlinewidth\":0,\"ticks\":\"\"}}}],\"carpet\":[{\"aaxis\":{\"endlinecolor\":\"#2a3f5f\",\"gridcolor\":\"white\",\"linecolor\":\"white\",\"minorgridcolor\":\"white\",\"startlinecolor\":\"#2a3f5f\"},\"baxis\":{\"endlinecolor\":\"#2a3f5f\",\"gridcolor\":\"white\",\"linecolor\":\"white\",\"minorgridcolor\":\"white\",\"startlinecolor\":\"#2a3f5f\"},\"type\":\"carpet\"}],\"table\":[{\"cells\":{\"fill\":{\"color\":\"#EBF0F8\"},\"line\":{\"color\":\"white\"}},\"header\":{\"fill\":{\"color\":\"#C8D4E3\"},\"line\":{\"color\":\"white\"}},\"type\":\"table\"}],\"barpolar\":[{\"marker\":{\"line\":{\"color\":\"#E5ECF6\",\"width\":0.5},\"pattern\":{\"fillmode\":\"overlay\",\"size\":10,\"solidity\":0.2}},\"type\":\"barpolar\"}],\"pie\":[{\"automargin\":true,\"type\":\"pie\"}]},\"layout\":{\"autotypenumbers\":\"strict\",\"colorway\":[\"#636efa\",\"#EF553B\",\"#00cc96\",\"#ab63fa\",\"#FFA15A\",\"#19d3f3\",\"#FF6692\",\"#B6E880\",\"#FF97FF\",\"#FECB52\"],\"font\":{\"color\":\"#2a3f5f\"},\"hovermode\":\"closest\",\"hoverlabel\":{\"align\":\"left\"},\"paper_bgcolor\":\"white\",\"plot_bgcolor\":\"#E5ECF6\",\"polar\":{\"bgcolor\":\"#E5ECF6\",\"angularaxis\":{\"gridcolor\":\"white\",\"linecolor\":\"white\",\"ticks\":\"\"},\"radialaxis\":{\"gridcolor\":\"white\",\"linecolor\":\"white\",\"ticks\":\"\"}},\"ternary\":{\"bgcolor\":\"#E5ECF6\",\"aaxis\":{\"gridcolor\":\"white\",\"linecolor\":\"white\",\"ticks\":\"\"},\"baxis\":{\"gridcolor\":\"white\",\"linecolor\":\"white\",\"ticks\":\"\"},\"caxis\":{\"gridcolor\":\"white\",\"linecolor\":\"white\",\"ticks\":\"\"}},\"coloraxis\":{\"colorbar\":{\"outlinewidth\":0,\"ticks\":\"\"}},\"colorscale\":{\"sequential\":[[0.0,\"#0d0887\"],[0.1111111111111111,\"#46039f\"],[0.2222222222222222,\"#7201a8\"],[0.3333333333333333,\"#9c179e\"],[0.4444444444444444,\"#bd3786\"],[0.5555555555555556,\"#d8576b\"],[0.6666666666666666,\"#ed7953\"],[0.7777777777777778,\"#fb9f3a\"],[0.8888888888888888,\"#fdca26\"],[1.0,\"#f0f921\"]],\"sequentialminus\":[[0.0,\"#0d0887\"],[0.1111111111111111,\"#46039f\"],[0.2222222222222222,\"#7201a8\"],[0.3333333333333333,\"#9c179e\"],[0.4444444444444444,\"#bd3786\"],[0.5555555555555556,\"#d8576b\"],[0.6666666666666666,\"#ed7953\"],[0.7777777777777778,\"#fb9f3a\"],[0.8888888888888888,\"#fdca26\"],[1.0,\"#f0f921\"]],\"diverging\":[[0,\"#8e0152\"],[0.1,\"#c51b7d\"],[0.2,\"#de77ae\"],[0.3,\"#f1b6da\"],[0.4,\"#fde0ef\"],[0.5,\"#f7f7f7\"],[0.6,\"#e6f5d0\"],[0.7,\"#b8e186\"],[0.8,\"#7fbc41\"],[0.9,\"#4d9221\"],[1,\"#276419\"]]},\"xaxis\":{\"gridcolor\":\"white\",\"linecolor\":\"white\",\"ticks\":\"\",\"title\":{\"standoff\":15},\"zerolinecolor\":\"white\",\"automargin\":true,\"zerolinewidth\":2},\"yaxis\":{\"gridcolor\":\"white\",\"linecolor\":\"white\",\"ticks\":\"\",\"title\":{\"standoff\":15},\"zerolinecolor\":\"white\",\"automargin\":true,\"zerolinewidth\":2},\"scene\":{\"xaxis\":{\"backgroundcolor\":\"#E5ECF6\",\"gridcolor\":\"white\",\"linecolor\":\"white\",\"showbackground\":true,\"ticks\":\"\",\"zerolinecolor\":\"white\",\"gridwidth\":2},\"yaxis\":{\"backgroundcolor\":\"#E5ECF6\",\"gridcolor\":\"white\",\"linecolor\":\"white\",\"showbackground\":true,\"ticks\":\"\",\"zerolinecolor\":\"white\",\"gridwidth\":2},\"zaxis\":{\"backgroundcolor\":\"#E5ECF6\",\"gridcolor\":\"white\",\"linecolor\":\"white\",\"showbackground\":true,\"ticks\":\"\",\"zerolinecolor\":\"white\",\"gridwidth\":2}},\"shapedefaults\":{\"line\":{\"color\":\"#2a3f5f\"}},\"annotationdefaults\":{\"arrowcolor\":\"#2a3f5f\",\"arrowhead\":0,\"arrowwidth\":1},\"geo\":{\"bgcolor\":\"white\",\"landcolor\":\"#E5ECF6\",\"subunitcolor\":\"white\",\"showland\":true,\"showlakes\":true,\"lakecolor\":\"white\"},\"title\":{\"x\":0.05},\"mapbox\":{\"style\":\"light\"}}},\"xaxis\":{\"anchor\":\"y\",\"domain\":[0.0,1.0],\"title\":{\"text\":\"gw\"}},\"yaxis\":{\"anchor\":\"x\",\"domain\":[0.0,1.0],\"title\":{\"text\":\"gi_plus_minus\"}},\"legend\":{\"title\":{\"text\":\"team_id\"},\"tracegroupgap\":0},\"margin\":{\"t\":60},\"height\":500,\"width\":900},                        {\"responsive\": true}                    ).then(function(){\n",
       "                            \n",
       "var gd = document.getElementById('2fdd17b7-b13b-4b2c-b4a7-f560cc0cc3e5');\n",
       "var x = new MutationObserver(function (mutations, observer) {{\n",
       "        var display = window.getComputedStyle(gd).display;\n",
       "        if (!display || display === 'none') {{\n",
       "            console.log([gd, 'removed!']);\n",
       "            Plotly.purge(gd);\n",
       "            observer.disconnect();\n",
       "        }}\n",
       "}});\n",
       "\n",
       "// Listen for the removal of the full notebook cells\n",
       "var notebookContainer = gd.closest('#notebook-container');\n",
       "if (notebookContainer) {{\n",
       "    x.observe(notebookContainer, {childList: true});\n",
       "}}\n",
       "\n",
       "// Listen for the clearing of the current output cell\n",
       "var outputEl = gd.closest('.output');\n",
       "if (outputEl) {{\n",
       "    x.observe(outputEl, {childList: true});\n",
       "}}\n",
       "\n",
       "                        })                };                });            </script>        </div>"
      ]
     },
     "metadata": {},
     "output_type": "display_data"
    }
   ],
   "source": [
    "# plot xg, xa, xgc vs actual\n",
    "\n",
    "plot_df = picks_detailed.groupby(['team_id','gw']).sum(numeric_only=True)\n",
    "plot_df['goal_plus_minus'] = plot_df['stats.goals_scored'] - plot_df['stats.expected_goals']\n",
    "plot_df['assist_plus_minus'] = plot_df['stats.assists'] - plot_df['stats.expected_assists']\n",
    "plot_df['gi_plus_minus'] = (plot_df['stats.goals_scored'] + plot_df['stats.assists']) - plot_df['stats.expected_goal_involvements']\n",
    "plot_df['gc_plus_minus'] = plot_df['stats.expected_goals_conceded'] - plot_df['stats.goals_conceded']\n",
    "plot_df.reset_index(inplace=True)\n",
    "plot_df = plot_df.replace({'team_id':players})\n",
    "\n",
    "fig = px.line(plot_df, x=\"gw\", y=\"gi_plus_minus\", color='team_id', width=900, height=500, markers=True)\n",
    "fig.show()"
   ]
  },
  {
   "cell_type": "markdown",
   "id": "92fcaa68",
   "metadata": {},
   "source": [
    "There appears to be a trend through zero indicating teams aren't getting more or less goal involvements than they should. Overperformance here would suggest the team was scoring some fluke goals, while underperformance might suggest that the team is missing easy chances."
   ]
  },
  {
   "cell_type": "markdown",
   "id": "efa6ff47",
   "metadata": {},
   "source": [
    "## Points on the bench"
   ]
  },
  {
   "cell_type": "code",
   "execution_count": 25,
   "id": "6d41bd90",
   "metadata": {},
   "outputs": [
    {
     "data": {
      "text/html": [
       "<div>\n",
       "<style scoped>\n",
       "    .dataframe tbody tr th:only-of-type {\n",
       "        vertical-align: middle;\n",
       "    }\n",
       "\n",
       "    .dataframe tbody tr th {\n",
       "        vertical-align: top;\n",
       "    }\n",
       "\n",
       "    .dataframe thead th {\n",
       "        text-align: right;\n",
       "    }\n",
       "</style>\n",
       "<table border=\"1\" class=\"dataframe\">\n",
       "  <thead>\n",
       "    <tr style=\"text-align: right;\">\n",
       "      <th></th>\n",
       "      <th>team_id</th>\n",
       "      <th>stats.total_points</th>\n",
       "    </tr>\n",
       "  </thead>\n",
       "  <tbody>\n",
       "    <tr>\n",
       "      <th>0</th>\n",
       "      <td>Nicolaj</td>\n",
       "      <td>347</td>\n",
       "    </tr>\n",
       "    <tr>\n",
       "      <th>2</th>\n",
       "      <td>Jesus</td>\n",
       "      <td>259</td>\n",
       "    </tr>\n",
       "    <tr>\n",
       "      <th>3</th>\n",
       "      <td>Kris</td>\n",
       "      <td>256</td>\n",
       "    </tr>\n",
       "    <tr>\n",
       "      <th>1</th>\n",
       "      <td>Ollie</td>\n",
       "      <td>201</td>\n",
       "    </tr>\n",
       "    <tr>\n",
       "      <th>4</th>\n",
       "      <td>Mattia</td>\n",
       "      <td>160</td>\n",
       "    </tr>\n",
       "  </tbody>\n",
       "</table>\n",
       "</div>"
      ],
      "text/plain": [
       "   team_id  stats.total_points\n",
       "0  Nicolaj                 347\n",
       "2    Jesus                 259\n",
       "3     Kris                 256\n",
       "1    Ollie                 201\n",
       "4   Mattia                 160"
      ]
     },
     "execution_count": 25,
     "metadata": {},
     "output_type": "execute_result"
    }
   ],
   "source": [
    "bench_points = picks_detailed[picks_detailed.played==False].groupby('team_id').sum(numeric_only=True).reset_index()\n",
    "bench_points = bench_points.replace({'team_id':players})\n",
    "bench_points[['team_id','stats.total_points']].sort_values(by='stats.total_points',ascending=False)"
   ]
  },
  {
   "cell_type": "code",
   "execution_count": 28,
   "id": "58c0acfb",
   "metadata": {},
   "outputs": [
    {
     "data": {
      "text/html": [
       "<div>\n",
       "<style scoped>\n",
       "    .dataframe tbody tr th:only-of-type {\n",
       "        vertical-align: middle;\n",
       "    }\n",
       "\n",
       "    .dataframe tbody tr th {\n",
       "        vertical-align: top;\n",
       "    }\n",
       "\n",
       "    .dataframe thead th {\n",
       "        text-align: right;\n",
       "    }\n",
       "</style>\n",
       "<table border=\"1\" class=\"dataframe\">\n",
       "  <thead>\n",
       "    <tr style=\"text-align: right;\">\n",
       "      <th></th>\n",
       "      <th>team_id</th>\n",
       "      <th>stats.total_points</th>\n",
       "    </tr>\n",
       "  </thead>\n",
       "  <tbody>\n",
       "    <tr>\n",
       "      <th>3</th>\n",
       "      <td>Kris</td>\n",
       "      <td>87</td>\n",
       "    </tr>\n",
       "    <tr>\n",
       "      <th>4</th>\n",
       "      <td>Mattia</td>\n",
       "      <td>76</td>\n",
       "    </tr>\n",
       "    <tr>\n",
       "      <th>1</th>\n",
       "      <td>Ollie</td>\n",
       "      <td>41</td>\n",
       "    </tr>\n",
       "    <tr>\n",
       "      <th>0</th>\n",
       "      <td>Nicolaj</td>\n",
       "      <td>35</td>\n",
       "    </tr>\n",
       "    <tr>\n",
       "      <th>2</th>\n",
       "      <td>Jesus</td>\n",
       "      <td>33</td>\n",
       "    </tr>\n",
       "  </tbody>\n",
       "</table>\n",
       "</div>"
      ],
      "text/plain": [
       "   team_id  stats.total_points\n",
       "3     Kris                  87\n",
       "4   Mattia                  76\n",
       "1    Ollie                  41\n",
       "0  Nicolaj                  35\n",
       "2    Jesus                  33"
      ]
     },
     "execution_count": 28,
     "metadata": {},
     "output_type": "execute_result"
    }
   ],
   "source": [
    "pts_subbed_on = picks_detailed[picks_detailed.sub_in==True].groupby('team_id').sum(numeric_only=True).reset_index()\n",
    "pts_subbed_on = pts_subbed_on.replace({'team_id':players})\n",
    "pts_subbed_on[['team_id','stats.total_points']].sort_values(by='stats.total_points',ascending=False)"
   ]
  },
  {
   "cell_type": "code",
   "execution_count": 61,
   "id": "6209042a",
   "metadata": {},
   "outputs": [
    {
     "name": "stdout",
     "output_type": "stream",
     "text": [
      "stats.total_points    244.6\n",
      "dtype: float64\n",
      "stats.total_points    54.4\n",
      "dtype: float64\n"
     ]
    }
   ],
   "source": [
    "print(bench_points[['team_id','stats.total_points']].mean(numeric_only=True))\n",
    "print(pts_subbed_on[['team_id','stats.total_points']].mean(numeric_only=True))"
   ]
  },
  {
   "cell_type": "markdown",
   "id": "4ffa808e",
   "metadata": {},
   "source": [
    "Having the most points left on the bench, and second least points subbed on seems to be where my performance has suffered so far this season.\n",
    "\n",
    "My points left on the bench is 102 points above the average of the rest of the league. With an average score here, I would be comfortably in first place.\n",
    "\n",
    "My points subbed on is 20 points lower than the league average. With an average score, my overall position would not change but I would move within 10 points of first place."
   ]
  },
  {
   "cell_type": "code",
   "execution_count": 99,
   "id": "9af60c62",
   "metadata": {},
   "outputs": [
    {
     "data": {
      "text/plain": [
       "Pope                8\n",
       "Saliba              4\n",
       "Arrizabalaga        3\n",
       "Raya                3\n",
       "Wilson              3\n",
       "Castagne            2\n",
       "Jesus               2\n",
       "Alexander-Arnold    2\n",
       "Robertson           2\n",
       "Trossard            2\n",
       "Nketiah             1\n",
       "Coady               1\n",
       "Havertz             1\n",
       "Botman              1\n",
       "Targett             1\n",
       "Antony              1\n",
       "Álvarez             1\n",
       "João Félix          1\n",
       "Sancho              1\n",
       "Bowen               1\n",
       "Name: web_name, dtype: int64"
      ]
     },
     "execution_count": 99,
     "metadata": {},
     "output_type": "execute_result"
    }
   ],
   "source": [
    "my_bench = picks_detailed[picks_detailed.team_id==15606]\n",
    "my_bench = my_bench[((my_bench.played==False) & (my_bench.sub_out==False)) | (my_bench.sub_in==True)]\n",
    "my_bench = my_bench.sort_values(by='stats.total_points', ascending=False)\n",
    "my_bench[my_bench['stats.total_points'] >= 4].web_name.value_counts()"
   ]
  },
  {
   "cell_type": "code",
   "execution_count": 97,
   "id": "24e1dd49",
   "metadata": {},
   "outputs": [
    {
     "data": {
      "text/plain": [
       "15    13\n",
       "1      9\n",
       "6      5\n",
       "12     4\n",
       "4      3\n",
       "14     2\n",
       "10     2\n",
       "13     1\n",
       "8      1\n",
       "19     1\n",
       "Name: team, dtype: int64"
      ]
     },
     "execution_count": 97,
     "metadata": {},
     "output_type": "execute_result"
    }
   ],
   "source": [
    "my_bench[my_bench['stats.total_points'] >= 4].team.value_counts()"
   ]
  },
  {
   "cell_type": "markdown",
   "id": "a7353936",
   "metadata": {},
   "source": [
    "Pope is the player that has been benched the most times when scoring 4+ points. I have benched a Newcastle player 30 times this season, with 13 of those being 4+ point games. Perhaps some bias from previous seasons despite them doing well now under new ownership. However, other goalkeepers such as Arrizabalaga and Raya also feature multiple times on the list so may need to further evaluate my choice of starting keeper.\n",
    "\n",
    "I've also benched Arsenal players 19 (Nine 4+ point games) times this season, again another team that has been poor in the previous seasons but is doing well this season. This number is a little inflated due to Trossard's move to Arsenal from Brighton."
   ]
  },
  {
   "cell_type": "code",
   "execution_count": null,
   "id": "123b9d60",
   "metadata": {},
   "outputs": [],
   "source": []
  },
  {
   "cell_type": "code",
   "execution_count": null,
   "id": "384d00a3",
   "metadata": {},
   "outputs": [],
   "source": []
  }
 ],
 "metadata": {
  "kernelspec": {
   "display_name": "Python 3 (ipykernel)",
   "language": "python",
   "name": "python3"
  },
  "language_info": {
   "codemirror_mode": {
    "name": "ipython",
    "version": 3
   },
   "file_extension": ".py",
   "mimetype": "text/x-python",
   "name": "python",
   "nbconvert_exporter": "python",
   "pygments_lexer": "ipython3",
   "version": "3.11.2"
  }
 },
 "nbformat": 4,
 "nbformat_minor": 5
}
